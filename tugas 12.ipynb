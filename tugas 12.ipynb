{
  "nbformat": 4,
  "nbformat_minor": 0,
  "metadata": {
    "colab": {
      "name": "Untitled7.ipynb",
      "provenance": [],
      "authorship_tag": "ABX9TyM5GlDlB1BhmGLsjsA9NOef",
      "include_colab_link": true
    },
    "kernelspec": {
      "name": "python3",
      "display_name": "Python 3"
    }
  },
  "cells": [
    {
      "cell_type": "markdown",
      "metadata": {
        "id": "view-in-github",
        "colab_type": "text"
      },
      "source": [
        "<a href=\"https://colab.research.google.com/github/ranggaanugrah/pemrograman-python/blob/main/tugas%2012.ipynb\" target=\"_parent\"><img src=\"https://colab.research.google.com/assets/colab-badge.svg\" alt=\"Open In Colab\"/></a>"
      ]
    },
    {
      "cell_type": "code",
      "metadata": {
        "id": "cxMat1O2h9wq"
      },
      "source": [
        "import numpy as np"
      ],
      "execution_count": 2,
      "outputs": []
    },
    {
      "cell_type": "code",
      "metadata": {
        "id": "3icWqYpliHhS"
      },
      "source": [
        "NtL = lambda x: 10*np.log10(x)"
      ],
      "execution_count": 4,
      "outputs": []
    },
    {
      "cell_type": "code",
      "metadata": {
        "id": "nQGsqcEDiQFp"
      },
      "source": [
        "LtN = lambda x: 10**(x/10)"
      ],
      "execution_count": 5,
      "outputs": []
    },
    {
      "cell_type": "code",
      "metadata": {
        "id": "h15yIc2miV4T"
      },
      "source": [
        "def ploss(d,fc,cm,ht,hr):\r\n",
        "\r\n",
        "\r\n",
        "  if cm == \"urban\" :\r\n",
        "    cm = 0 \r\n",
        "  elif cm == \"suburban\" :\r\n",
        "     cm = (-2*(np.log10(fc/28))**2) - 5.4\r\n",
        "  elif cm == \"open\" :\r\n",
        "     cm = (-4.78*(np.log(fc))**2) + (18.33*np.log10(fc)) - 40.94\r\n",
        "  else :\r\n",
        "     cm = 0\r\n",
        "\r\n",
        "  ahr= ((1.1*np.log10(fc))-0.7)*hr - ((1.56*np.log10(fc))-0.8)\r\n",
        "\r\n",
        "  pldb= c1 + (c2*np.log10(fc)) - (13.83*np.log10(ht)) - ahr + (44.9 - 6.55*np.log10(ht)) + (np.log10(d)) + cm\r\n",
        "  \r\n",
        "  return pldb"
      ],
      "execution_count": 69,
      "outputs": []
    },
    {
      "cell_type": "code",
      "metadata": {
        "id": "uU2Q-T2d9GZ6"
      },
      "source": [
        "  for i in range(400,1500):\r\n",
        "    if fc in range(400,1500):\r\n",
        "      c1 = 69.55 \r\n",
        "      c2 = 26.16\r\n",
        "    else :\r\n",
        "       c1 = 0 \r\n",
        "       c2 = 0\r\n"
      ],
      "execution_count": 40,
      "outputs": []
    },
    {
      "cell_type": "code",
      "metadata": {
        "id": "AAyb9MGdAxlu"
      },
      "source": [
        "for i in range(1500,2000):\r\n",
        "  if fc in range(1500,2000):\r\n",
        "    c1 = 46.3 \r\n",
        "    c2 = 33.9\r\n",
        "  else :\r\n",
        "    c1 = 0 \r\n",
        "    c2 = 0"
      ],
      "execution_count": 38,
      "outputs": []
    },
    {
      "cell_type": "code",
      "metadata": {
        "colab": {
          "base_uri": "https://localhost:8080/"
        },
        "id": "TZb5j9NmIeUo",
        "outputId": "d54d0164-306f-476b-aa96-22ec92292687"
      },
      "source": [
        "pathlossdb = ploss(5,1500,\"suburban\",30,2)\r\n",
        "print(\"pathloss dalam db =\",pathlossdb,\"dB\")"
      ],
      "execution_count": 71,
      "outputs": [
        {
          "output_type": "stream",
          "text": [
            "pathloss dalam db = 155.3206675524669 dB\n"
          ],
          "name": "stdout"
        }
      ]
    }
  ]
}