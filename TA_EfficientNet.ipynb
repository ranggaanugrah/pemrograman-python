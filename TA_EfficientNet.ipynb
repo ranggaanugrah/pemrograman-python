{
  "nbformat": 4,
  "nbformat_minor": 0,
  "metadata": {
    "colab": {
      "name": "Tugas_Akhir.ipynb",
      "provenance": [],
      "collapsed_sections": [],
      "authorship_tag": "ABX9TyOQPacjUnc3Vp0+M9bI3Lhs",
      "include_colab_link": true
    },
    "kernelspec": {
      "name": "python3",
      "display_name": "Python 3"
    },
    "language_info": {
      "name": "python"
    }
  },
  "cells": [
    {
      "cell_type": "markdown",
      "metadata": {
        "id": "view-in-github",
        "colab_type": "text"
      },
      "source": [
        "<a href=\"https://colab.research.google.com/github/ranggaanugrah/pemrograman-python/blob/main/TA_EfficientNet.ipynb\" target=\"_parent\"><img src=\"https://colab.research.google.com/assets/colab-badge.svg\" alt=\"Open In Colab\"/></a>"
      ]
    },
    {
      "cell_type": "code",
      "execution_count": 1,
      "metadata": {
        "colab": {
          "base_uri": "https://localhost:8080/"
        },
        "id": "utXBNn8hP9Ga",
        "outputId": "64aff054-f1e5-4ac6-d55a-c5c8cfb9e2a5"
      },
      "outputs": [
        {
          "output_type": "stream",
          "name": "stdout",
          "text": [
            "Mounted at /content/drive\n"
          ]
        }
      ],
      "source": [
        "from google.colab import drive\n",
        "drive.mount('/content/drive')"
      ]
    },
    {
      "cell_type": "code",
      "source": [
        "cd /content/drive/MyDrive/Colab Notebooks"
      ],
      "metadata": {
        "colab": {
          "base_uri": "https://localhost:8080/"
        },
        "id": "RwypdfgTRVGw",
        "outputId": "0c768d26-7dfd-4362-8461-8edb371f0106"
      },
      "execution_count": 2,
      "outputs": [
        {
          "output_type": "stream",
          "name": "stdout",
          "text": [
            "/content/drive/MyDrive/Colab Notebooks\n"
          ]
        }
      ]
    },
    {
      "cell_type": "code",
      "source": [
        "import numpy as np\n",
        "import os\n",
        "import time\n",
        "import keras \n",
        "import pickle\n",
        "import cv2\n",
        "import tensorflow as tf\n",
        "from keras import applications\n",
        "from keras.preprocessing.image import ImageDataGenerator\n",
        "from keras import optimizers\n",
        "from keras.models import Sequential, Model, load_model \n",
        "from keras.layers import Dropout, Flatten, Dense, GlobalAveragePooling2D, Input\n",
        "from keras.callbacks import ModelCheckpoint, LearningRateScheduler, TensorBoard, EarlyStopping\n",
        "from tensorflow.keras.optimizers import Adam, RMSprop, SGD\n",
        "from keras.preprocessing.image import ImageDataGenerator\n",
        "from imutils import paths\n",
        "from PIL import Image\n",
        "from sklearn.model_selection import cross_val_score\n",
        "from sklearn.preprocessing import LabelEncoder\n",
        "from sklearn.model_selection import StratifiedKFold\n",
        "from sklearn.preprocessing import StandardScaler\n",
        "from sklearn.pipeline import Pipeline\n",
        "from sklearn.model_selection import train_test_split\n",
        "keras.utils.np_utils.to_categorical\n",
        "from keras.utils import np_utils\n",
        "from keras.models import Sequential\n",
        "from keras.layers.core import Activation\n",
        "from keras.layers.core import Flatten\n",
        "from keras.layers.core import Dense\n",
        "from sklearn.preprocessing import LabelBinarizer\n",
        "from sklearn.model_selection import train_test_split\n",
        "from sklearn.metrics import classification_report\n",
        "from PIL import Image\n",
        "from imutils import paths\n",
        "from torchvision import transforms\n"
      ],
      "metadata": {
        "id": "Pgh2FYKCRVON"
      },
      "execution_count": 3,
      "outputs": []
    },
    {
      "cell_type": "code",
      "source": [
        "# grab all image paths in the input dataset directory, then initialize\n",
        "# our list of images and corresponding class labels\n",
        "print(\"[INFO] loading images...\")\n",
        "imagePaths = paths.list_images(\"Normaldata\")\n",
        "data = []\n",
        "labels = []"
      ],
      "metadata": {
        "colab": {
          "base_uri": "https://localhost:8080/"
        },
        "id": "WTjZCo44RVis",
        "outputId": "cb0c8fe2-04b4-4e64-b80e-b1aafe8c9642"
      },
      "execution_count": 4,
      "outputs": [
        {
          "output_type": "stream",
          "name": "stdout",
          "text": [
            "[INFO] loading images...\n"
          ]
        }
      ]
    },
    {
      "cell_type": "code",
      "source": [
        "# loop over our input images\n",
        "for imagePath in imagePaths:\n",
        "\t# load the input image from disk, resize it to 64x64 pixels, scale\n",
        "\t# the pixel intensities to the range [0, 1], and then update our\n",
        "\t# images list\n",
        "\timage = Image.open(imagePath)\n",
        "  #preprocessing\n",
        "\timage = np.array(image.resize((224, 224))) / 255.0 #normalisasi\n",
        "\tdata.append(image)\n",
        "\n",
        "\t# extract the class label from the file path and update the\n",
        "\t# labels list\n",
        "\tlabel = imagePath.split(os.path.sep)[-2]\n",
        "\tlabels.append(label)"
      ],
      "metadata": {
        "id": "4-9rzStkRV-F"
      },
      "execution_count": 5,
      "outputs": []
    },
    {
      "cell_type": "code",
      "source": [
        "print(labels)"
      ],
      "metadata": {
        "colab": {
          "base_uri": "https://localhost:8080/"
        },
        "id": "8aCsFdosbunY",
        "outputId": "1f5e4486-0af3-4c57-a546-d34ed313a3d9"
      },
      "execution_count": 6,
      "outputs": [
        {
          "output_type": "stream",
          "name": "stdout",
          "text": [
            "['Invected', 'Invected', 'Invected', 'Invected', 'Invected', 'Invected', 'Invected', 'Invected', 'Invected', 'Invected', 'Invected', 'Invected', 'Invected', 'Invected', 'Invected', 'Invected', 'Invected', 'Invected', 'Invected', 'Invected', 'Invected', 'Invected', 'Invected', 'Invected', 'Invected', 'Invected', 'Invected', 'Invected', 'Invected', 'Invected', 'Invected', 'Invected', 'Invected', 'Invected', 'Invected', 'Invected', 'Invected', 'Invected', 'Invected', 'Invected', 'Invected', 'Invected', 'Invected', 'Invected', 'Invected', 'Invected', 'Invected', 'Invected', 'Invected', 'Invected', 'Invected', 'Invected', 'Invected', 'Invected', 'Invected', 'Invected', 'Invected', 'Invected', 'Invected', 'Invected', 'Invected', 'Invected', 'Invected', 'Invected', 'Invected', 'Invected', 'Invected', 'Invected', 'Invected', 'Invected', 'Invected', 'Invected', 'Invected', 'Invected', 'Invected', 'Invected', 'Invected', 'Invected', 'Invected', 'Invected', 'Invected', 'Invected', 'Invected', 'Invected', 'Invected', 'Invected', 'Invected', 'Invected', 'Invected', 'Invected', 'Invected', 'Invected', 'Invected', 'Invected', 'Invected', 'Invected', 'Invected', 'Invected', 'Invected', 'Invected', 'Invected', 'Invected', 'Invected', 'Invected', 'Invected', 'Invected', 'Invected', 'Invected', 'Invected', 'Invected', 'Invected', 'Invected', 'Invected', 'Invected', 'Invected', 'Invected', 'Invected', 'Invected', 'Invected', 'Invected', 'Invected', 'Invected', 'Invected', 'Invected', 'Invected', 'Invected', 'Invected', 'Invected', 'Invected', 'Invected', 'Invected', 'Invected', 'Invected', 'Invected', 'Invected', 'Invected', 'Invected', 'Invected', 'Invected', 'Invected', 'Invected', 'Invected', 'Invected', 'Invected', 'Invected', 'Invected', 'Invected', 'Invected', 'Invected', 'Invected', 'Invected', 'Invected', 'Invected', 'Invected', 'Invected', 'Invected', 'Invected', 'Invected', 'Invected', 'Invected', 'Invected', 'Invected', 'Invected', 'Invected', 'Invected', 'Invected', 'Invected', 'Invected', 'Invected', 'Invected', 'Invected', 'Invected', 'Invected', 'Invected', 'Invected', 'Invected', 'Invected', 'Invected', 'Invected', 'Invected', 'Invected', 'Invected', 'Invected', 'Invected', 'Invected', 'Invected', 'Invected', 'Invected', 'Invected', 'Invected', 'Invected', 'Invected', 'Invected', 'Invected', 'Invected', 'Invected', 'Invected', 'Invected', 'Invected', 'Invected', 'Invected', 'Invected', 'Invected', 'Invected', 'Invected', 'Invected', 'Invected', 'Invected', 'Invected', 'Invected', 'Invected', 'Invected', 'Invected', 'Invected', 'Invected', 'Invected', 'Invected', 'Invected', 'Invected', 'Invected', 'Invected', 'Invected', 'Invected', 'Invected', 'Invected', 'Invected', 'Invected', 'Invected', 'Invected', 'Invected', 'Invected', 'Invected', 'Invected', 'Invected', 'Invected', 'Invected', 'Invected', 'Invected', 'Invected', 'Invected', 'Invected', 'Invected', 'Invected', 'Invected', 'Invected', 'Invected', 'Invected', 'Invected', 'Invected', 'Invected', 'Invected', 'Invected', 'Invected', 'Invected', 'Invected', 'Invected', 'Invected', 'Invected', 'Invected', 'Invected', 'Invected', 'Invected', 'Invected', 'Invected', 'Invected', 'Invected', 'Invected', 'Invected', 'Invected', 'Invected', 'Invected', 'Invected', 'Invected', 'Invected', 'Invected', 'Invected', 'Invected', 'Invected', 'Invected', 'Invected', 'Invected', 'Invected', 'Invected', 'Invected', 'Invected', 'Invected', 'Invected', 'Invected', 'Invected', 'Invected', 'Invected', 'Invected', 'Invected', 'Invected', 'Invected', 'Invected', 'Invected', 'Invected', 'Invected', 'Invected', 'Invected', 'Invected', 'Invected', 'Invected', 'Invected', 'Invected', 'Invected', 'Invected', 'Invected', 'Invected', 'Invected', 'Invected', 'Invected', 'Invected', 'Invected', 'Invected', 'Invected', 'Invected', 'Invected', 'Invected', 'Invected', 'Invected', 'Invected', 'Invected', 'Invected', 'Invected', 'Invected', 'Invected', 'Invected', 'Invected', 'Invected', 'Invected', 'Invected', 'Invected', 'Invected', 'Invected', 'Invected', 'Invected', 'Invected', 'Invected', 'Invected', 'Invected', 'Invected', 'Invected', 'Invected', 'Invected', 'Invected', 'Invected', 'Invected', 'Invected', 'Invected', 'Invected', 'Invected', 'Invected', 'Invected', 'Invected', 'Invected', 'Invected', 'Invected', 'Invected', 'Invected', 'Invected', 'Invected', 'Invected', 'Invected', 'Invected', 'Invected', 'Invected', 'Invected', 'Invected', 'Invected', 'Invected', 'Invected', 'Invected', 'Invected', 'Invected', 'Invected', 'Invected', 'Invected', 'Invected', 'Invected', 'Invected', 'Invected', 'Invected', 'Invected', 'Invected', 'Invected', 'Invected', 'Invected', 'Invected', 'Invected', 'Invected', 'Invected', 'Invected', 'Invected', 'Invected', 'Invected', 'Invected', 'Invected', 'Invected', 'Invected', 'Invected', 'Invected', 'Invected', 'Invected', 'Invected', 'Invected', 'Invected', 'Invected', 'Invected', 'Invected', 'Invected', 'Invected', 'Invected', 'Invected', 'Invected', 'Invected', 'Invected', 'Invected', 'Invected', 'Invected', 'Invected', 'Invected', 'Invected', 'Invected', 'Invected', 'Invected', 'Invected', 'Invected', 'Invected', 'Invected', 'Invected', 'Invected', 'Invected', 'Invected', 'Invected', 'Invected', 'Invected', 'Invected', 'Invected', 'Invected', 'Invected', 'Invected', 'Invected', 'Invected', 'Invected', 'Invected', 'Invected', 'Invected', 'Invected', 'Invected', 'Invected', 'Invected', 'Invected', 'Invected', 'Invected', 'Invected', 'Invected', 'Invected', 'Invected', 'Invected', 'Invected', 'Invected', 'Invected', 'Invected', 'Invected', 'Invected', 'Invected', 'Invected', 'Invected', 'Invected', 'Invected', 'Invected', 'Invected', 'Invected', 'Invected', 'Invected', 'Invected', 'Invected', 'Invected', 'Invected', 'Invected', 'Invected', 'Invected', 'Invected', 'Invected', 'Invected', 'Invected', 'Invected', 'Invected', 'Invected', 'Invected', 'Invected', 'Invected', 'Invected', 'Invected', 'Invected', 'Invected', 'Invected', 'Invected', 'Invected', 'Invected', 'Invected', 'Invected', 'Invected', 'Invected', 'Invected', 'Invected', 'Invected', 'Invected', 'Invected', 'Invected', 'Invected', 'Invected', 'Invected', 'Invected', 'Invected', 'Invected', 'Invected', 'Invected', 'Invected', 'Invected', 'Invected', 'Invected', 'Invected', 'Invected', 'Invected', 'Invected', 'Invected', 'Invected', 'Invected', 'Invected', 'Invected', 'Invected', 'Invected', 'Invected', 'Invected', 'Invected', 'Invected', 'Invected', 'Invected', 'Invected', 'Invected', 'Invected', 'Invected', 'Invected', 'Invected', 'Invected', 'Invected', 'Invected', 'Invected', 'Invected', 'Invected', 'Invected', 'Invected', 'Invected', 'Invected', 'Invected', 'Invected', 'Invected', 'Invected', 'Invected', 'Invected', 'Invected', 'Invected', 'Invected', 'Invected', 'Invected', 'Invected', 'Invected', 'Invected', 'Invected', 'Invected', 'Invected', 'Invected', 'Invected', 'Invected', 'Invected', 'Invected', 'Invected', 'Invected', 'Invected', 'Invected', 'Invected', 'Invected', 'Invected', 'Invected', 'Invected', 'Invected', 'Invected', 'Invected', 'Invected', 'Invected', 'Invected', 'Invected', 'Invected', 'Invected', 'Invected', 'Invected', 'Invected', 'Invected', 'Invected', 'Invected', 'Invected', 'Invected', 'Invected', 'Invected', 'Invected', 'Invected', 'Invected', 'Invected', 'Invected', 'Invected', 'Invected', 'Invected', 'Invected', 'Invected', 'Invected', 'Invected', 'Invected', 'Invected', 'Invected', 'Invected', 'Invected', 'Invected', 'Invected', 'Invected', 'Invected', 'Invected', 'Invected', 'Invected', 'Invected', 'Invected', 'Invected', 'Invected', 'Invected', 'Invected', 'Invected', 'Invected', 'Invected', 'Invected', 'Invected', 'Invected', 'Invected', 'Invected', 'Invected', 'Invected', 'Invected', 'Invected', 'Invected', 'Invected', 'Invected', 'Invected', 'Invected', 'Invected', 'Invected', 'Invected', 'Invected', 'Invected', 'Invected', 'Invected', 'Invected', 'Invected', 'Invected', 'Invected', 'Invected', 'Invected', 'Invected', 'Invected', 'Invected', 'Invected', 'Invected', 'Invected', 'Invected', 'Invected', 'Invected', 'Invected', 'Invected', 'Invected', 'Invected', 'Invected', 'Invected', 'Invected', 'Invected', 'Invected', 'Invected', 'Invected', 'Invected', 'Invected', 'Invected', 'Invected', 'Invected', 'Invected', 'Invected', 'Invected', 'Invected', 'Invected', 'Invected', 'Invected', 'Invected', 'Invected', 'Invected', 'Invected', 'Invected', 'Invected', 'Invected', 'Invected', 'Invected', 'Invected', 'Invected', 'Invected', 'Invected', 'Invected', 'Invected', 'Invected', 'Invected', 'Invected', 'Invected', 'Invected', 'Invected', 'Invected', 'Invected', 'Invected', 'Invected', 'Invected', 'Invected', 'Invected', 'Invected', 'Invected', 'Invected', 'Invected', 'Invected', 'Invected', 'Invected', 'Invected', 'Invected', 'Invected', 'Invected', 'Invected', 'Invected', 'Invected', 'Invected', 'Invected', 'Invected', 'Invected', 'Invected', 'Invected', 'Invected', 'Invected', 'Invected', 'Invected', 'Invected', 'Invected', 'Invected', 'Invected', 'Invected', 'Invected', 'Invected', 'Invected', 'Invected', 'Invected', 'Invected', 'Invected', 'Invected', 'Invected', 'Invected', 'Invected', 'Invected', 'Invected', 'Invected', 'Invected', 'Invected', 'Invected', 'Invected', 'Invected', 'Invected', 'Invected', 'Invected', 'Invected', 'Invected', 'Invected', 'Invected', 'Invected', 'Invected', 'Invected', 'Invected', 'Invected', 'Invected', 'Invected', 'Invected', 'Invected', 'Invected', 'Invected', 'Invected', 'Invected', 'Invected', 'Invected', 'Invected', 'Invected', 'Invected', 'Invected', 'Invected', 'Invected', 'Invected', 'Invected', 'Invected', 'Invected', 'Invected', 'Invected', 'Invected', 'Invected', 'Invected', 'Invected', 'Invected', 'Invected', 'Invected', 'Invected', 'Invected', 'Invected', 'Invected', 'Invected', 'Invected', 'Invected', 'Invected', 'Invected', 'Invected', 'Invected', 'Invected', 'Invected', 'Invected', 'Invected', 'Invected', 'Invected', 'Invected', 'Invected', 'Invected', 'Invected', 'Invected', 'Invected', 'Invected', 'Invected', 'Invected', 'Invected', 'Invected', 'Invected', 'Invected', 'Invected', 'Invected', 'Invected', 'Invected', 'Invected', 'Invected', 'Invected', 'Invected', 'Invected', 'Invected', 'Invected', 'Invected', 'Invected', 'Invected', 'Invected', 'Invected', 'Invected', 'Invected', 'Invected', 'Invected', 'Invected', 'Invected', 'Invected', 'Invected', 'Invected', 'Invected', 'Invected', 'Invected', 'Invected', 'Invected', 'Invected', 'Invected', 'Invected', 'Invected', 'Invected', 'Invected', 'Invected', 'Invected', 'Invected', 'Invected', 'Invected', 'Invected', 'Invected', 'Invected', 'Invected', 'Invected', 'Invected', 'Invected', 'Invected', 'Invected', 'Invected', 'Invected', 'Invected', 'Invected', 'Invected', 'Invected', 'Invected', 'Invected', 'Invected', 'Invected', 'Invected', 'Invected', 'Invected', 'Invected', 'Invected', 'Invected', 'Invected', 'Invected', 'Invected', 'Invected', 'Invected', 'Invected', 'Invected', 'Invected', 'Invected', 'Invected', 'Invected', 'Invected', 'Invected', 'Invected', 'Invected', 'Invected', 'Invected', 'Invected', 'Invected', 'Invected', 'Invected', 'Invected', 'Invected', 'Invected', 'Invected', 'Invected', 'Invected', 'Invected', 'Invected', 'Invected', 'Invected', 'Invected', 'Invected', 'Invected', 'Invected', 'Invected', 'Invected', 'Invected', 'Invected', 'Invected', 'Invected', 'Invected', 'Invected', 'Invected', 'Invected', 'Invected', 'Invected', 'Invected', 'Invected', 'Invected', 'Invected', 'Invected', 'Invected', 'Invected', 'Invected', 'Invected', 'Invected', 'Invected', 'Invected', 'Invected', 'Invected', 'Invected', 'Invected', 'Invected', 'Invected', 'Invected', 'Invected', 'Invected', 'Invected', 'Invected', 'Invected', 'Invected', 'Invected', 'Invected', 'Invected', 'Invected', 'Invected', 'Invected', 'Invected', 'Invected', 'Invected', 'Invected', 'Invected', 'Invected', 'Invected', 'Invected', 'Invected', 'Invected', 'Invected', 'Invected', 'Invected', 'Invected', 'Invected', 'Invected', 'Invected', 'Invected', 'Invected', 'Invected', 'Invected', 'Invected', 'Invected', 'Invected', 'Invected', 'Invected', 'Invected', 'Invected', 'Invected', 'Invected', 'Invected', 'Invected', 'Invected', 'Invected', 'Invected', 'Invected', 'Invected', 'Invected', 'Invected', 'Invected', 'Invected', 'Invected', 'Invected', 'Invected', 'Invected', 'Invected', 'Invected', 'Invected', 'Invected', 'Invected', 'Invected', 'Invected', 'Invected', 'Invected', 'Invected', 'Invected', 'Invected', 'Invected', 'Invected', 'Invected', 'Invected', 'Invected', 'Invected', 'Invected', 'Invected', 'Invected', 'Invected', 'Invected', 'Invected', 'Invected', 'Invected', 'Invected', 'Invected', 'NonInvected', 'NonInvected', 'NonInvected', 'NonInvected', 'NonInvected', 'NonInvected', 'NonInvected', 'NonInvected', 'NonInvected', 'NonInvected', 'NonInvected', 'NonInvected', 'NonInvected', 'NonInvected', 'NonInvected', 'NonInvected', 'NonInvected', 'NonInvected', 'NonInvected', 'NonInvected', 'NonInvected', 'NonInvected', 'NonInvected', 'NonInvected', 'NonInvected', 'NonInvected', 'NonInvected', 'NonInvected', 'NonInvected', 'NonInvected', 'NonInvected', 'NonInvected', 'NonInvected', 'NonInvected', 'NonInvected', 'NonInvected', 'NonInvected', 'NonInvected', 'NonInvected', 'NonInvected', 'NonInvected', 'NonInvected', 'NonInvected', 'NonInvected', 'NonInvected', 'NonInvected', 'NonInvected', 'NonInvected', 'NonInvected', 'NonInvected', 'NonInvected', 'NonInvected', 'NonInvected', 'NonInvected', 'NonInvected', 'NonInvected', 'NonInvected', 'NonInvected', 'NonInvected', 'NonInvected', 'NonInvected', 'NonInvected', 'NonInvected', 'NonInvected', 'NonInvected', 'NonInvected', 'NonInvected', 'NonInvected', 'NonInvected', 'NonInvected', 'NonInvected', 'NonInvected', 'NonInvected', 'NonInvected', 'NonInvected', 'NonInvected', 'NonInvected', 'NonInvected', 'NonInvected', 'NonInvected', 'NonInvected', 'NonInvected', 'NonInvected', 'NonInvected', 'NonInvected', 'NonInvected', 'NonInvected', 'NonInvected', 'NonInvected', 'NonInvected', 'NonInvected', 'NonInvected', 'NonInvected', 'NonInvected', 'NonInvected', 'NonInvected', 'NonInvected', 'NonInvected', 'NonInvected', 'NonInvected', 'NonInvected', 'NonInvected', 'NonInvected', 'NonInvected', 'NonInvected', 'NonInvected', 'NonInvected', 'NonInvected', 'NonInvected', 'NonInvected', 'NonInvected', 'NonInvected', 'NonInvected', 'NonInvected', 'NonInvected', 'NonInvected', 'NonInvected', 'NonInvected', 'NonInvected', 'NonInvected', 'NonInvected', 'NonInvected', 'NonInvected', 'NonInvected', 'NonInvected', 'NonInvected', 'NonInvected', 'NonInvected', 'NonInvected', 'NonInvected', 'NonInvected', 'NonInvected', 'NonInvected', 'NonInvected', 'NonInvected', 'NonInvected', 'NonInvected', 'NonInvected', 'NonInvected', 'NonInvected', 'NonInvected', 'NonInvected', 'NonInvected', 'NonInvected', 'NonInvected', 'NonInvected', 'NonInvected', 'NonInvected', 'NonInvected', 'NonInvected', 'NonInvected', 'NonInvected', 'NonInvected', 'NonInvected', 'NonInvected', 'NonInvected', 'NonInvected', 'NonInvected', 'NonInvected', 'NonInvected', 'NonInvected', 'NonInvected', 'NonInvected', 'NonInvected', 'NonInvected', 'NonInvected', 'NonInvected', 'NonInvected', 'NonInvected', 'NonInvected', 'NonInvected', 'NonInvected', 'NonInvected', 'NonInvected', 'NonInvected', 'NonInvected', 'NonInvected', 'NonInvected', 'NonInvected', 'NonInvected', 'NonInvected', 'NonInvected', 'NonInvected', 'NonInvected', 'NonInvected', 'NonInvected', 'NonInvected', 'NonInvected', 'NonInvected', 'NonInvected', 'NonInvected', 'NonInvected', 'NonInvected', 'NonInvected', 'NonInvected', 'NonInvected', 'NonInvected', 'NonInvected', 'NonInvected', 'NonInvected', 'NonInvected', 'NonInvected', 'NonInvected', 'NonInvected', 'NonInvected', 'NonInvected', 'NonInvected', 'NonInvected', 'NonInvected', 'NonInvected', 'NonInvected', 'NonInvected', 'NonInvected', 'NonInvected', 'NonInvected', 'NonInvected', 'NonInvected', 'NonInvected', 'NonInvected', 'NonInvected', 'NonInvected', 'NonInvected', 'NonInvected', 'NonInvected', 'NonInvected', 'NonInvected', 'NonInvected', 'NonInvected', 'NonInvected', 'NonInvected', 'NonInvected', 'NonInvected', 'NonInvected', 'NonInvected', 'NonInvected', 'NonInvected', 'NonInvected', 'NonInvected', 'NonInvected', 'NonInvected', 'NonInvected', 'NonInvected', 'NonInvected', 'NonInvected', 'NonInvected', 'NonInvected', 'NonInvected', 'NonInvected', 'NonInvected', 'NonInvected', 'NonInvected', 'NonInvected', 'NonInvected', 'NonInvected', 'NonInvected', 'NonInvected', 'NonInvected', 'NonInvected', 'NonInvected', 'NonInvected', 'NonInvected', 'NonInvected', 'NonInvected', 'NonInvected', 'NonInvected', 'NonInvected', 'NonInvected', 'NonInvected', 'NonInvected', 'NonInvected', 'NonInvected', 'NonInvected', 'NonInvected', 'NonInvected', 'NonInvected', 'NonInvected', 'NonInvected', 'NonInvected', 'NonInvected', 'NonInvected', 'NonInvected', 'NonInvected', 'NonInvected', 'NonInvected', 'NonInvected', 'NonInvected', 'NonInvected', 'NonInvected', 'NonInvected', 'NonInvected', 'NonInvected', 'NonInvected', 'NonInvected', 'NonInvected', 'NonInvected', 'NonInvected', 'NonInvected', 'NonInvected', 'NonInvected', 'NonInvected', 'NonInvected', 'NonInvected', 'NonInvected', 'NonInvected', 'NonInvected', 'NonInvected', 'NonInvected', 'NonInvected', 'NonInvected', 'NonInvected', 'NonInvected', 'NonInvected', 'NonInvected', 'NonInvected', 'NonInvected', 'NonInvected', 'NonInvected', 'NonInvected', 'NonInvected', 'NonInvected', 'NonInvected', 'NonInvected', 'NonInvected', 'NonInvected', 'NonInvected', 'NonInvected', 'NonInvected', 'NonInvected', 'NonInvected', 'NonInvected', 'NonInvected', 'NonInvected', 'NonInvected', 'NonInvected', 'NonInvected', 'NonInvected', 'NonInvected', 'NonInvected', 'NonInvected', 'NonInvected', 'NonInvected', 'NonInvected', 'NonInvected', 'NonInvected', 'NonInvected', 'NonInvected', 'NonInvected', 'NonInvected', 'NonInvected', 'NonInvected', 'NonInvected', 'NonInvected', 'NonInvected', 'NonInvected', 'NonInvected', 'NonInvected', 'NonInvected', 'NonInvected', 'NonInvected', 'NonInvected', 'NonInvected', 'NonInvected', 'NonInvected', 'NonInvected', 'NonInvected', 'NonInvected', 'NonInvected', 'NonInvected', 'NonInvected', 'NonInvected', 'NonInvected', 'NonInvected', 'NonInvected', 'NonInvected', 'NonInvected', 'NonInvected', 'NonInvected', 'NonInvected', 'NonInvected', 'NonInvected', 'NonInvected', 'NonInvected', 'NonInvected', 'NonInvected', 'NonInvected', 'NonInvected', 'NonInvected', 'NonInvected', 'NonInvected', 'NonInvected', 'NonInvected', 'NonInvected', 'NonInvected', 'NonInvected', 'NonInvected', 'NonInvected', 'NonInvected', 'NonInvected', 'NonInvected', 'NonInvected', 'NonInvected', 'NonInvected', 'NonInvected', 'NonInvected', 'NonInvected', 'NonInvected', 'NonInvected', 'NonInvected', 'NonInvected', 'NonInvected', 'NonInvected', 'NonInvected', 'NonInvected', 'NonInvected', 'NonInvected', 'NonInvected', 'NonInvected', 'NonInvected', 'NonInvected', 'NonInvected', 'NonInvected', 'NonInvected', 'NonInvected', 'NonInvected', 'NonInvected', 'NonInvected', 'NonInvected', 'NonInvected', 'NonInvected', 'NonInvected', 'NonInvected', 'NonInvected', 'NonInvected', 'NonInvected', 'NonInvected', 'NonInvected', 'NonInvected', 'NonInvected', 'NonInvected', 'NonInvected', 'NonInvected', 'NonInvected', 'NonInvected', 'NonInvected', 'NonInvected', 'NonInvected', 'NonInvected', 'NonInvected', 'NonInvected', 'NonInvected', 'NonInvected', 'NonInvected', 'NonInvected', 'NonInvected', 'NonInvected', 'NonInvected', 'NonInvected', 'NonInvected', 'NonInvected', 'NonInvected', 'NonInvected', 'NonInvected', 'NonInvected', 'NonInvected', 'NonInvected', 'NonInvected', 'NonInvected', 'NonInvected', 'NonInvected', 'NonInvected', 'NonInvected', 'NonInvected', 'NonInvected', 'NonInvected', 'NonInvected', 'NonInvected', 'NonInvected', 'NonInvected', 'NonInvected', 'NonInvected', 'NonInvected', 'NonInvected', 'NonInvected', 'NonInvected', 'NonInvected', 'NonInvected', 'NonInvected', 'NonInvected', 'NonInvected', 'NonInvected', 'NonInvected', 'NonInvected', 'NonInvected', 'NonInvected', 'NonInvected', 'NonInvected', 'NonInvected', 'NonInvected', 'NonInvected', 'NonInvected', 'NonInvected', 'NonInvected', 'NonInvected', 'NonInvected', 'NonInvected', 'NonInvected', 'NonInvected', 'NonInvected', 'NonInvected', 'NonInvected', 'NonInvected', 'NonInvected', 'NonInvected', 'NonInvected', 'NonInvected', 'NonInvected', 'NonInvected', 'NonInvected', 'NonInvected', 'NonInvected', 'NonInvected', 'NonInvected', 'NonInvected', 'NonInvected', 'NonInvected', 'NonInvected', 'NonInvected', 'NonInvected', 'NonInvected', 'NonInvected', 'NonInvected', 'NonInvected', 'NonInvected', 'NonInvected', 'NonInvected', 'NonInvected', 'NonInvected', 'NonInvected', 'NonInvected', 'NonInvected', 'NonInvected', 'NonInvected', 'NonInvected', 'NonInvected', 'NonInvected', 'NonInvected', 'NonInvected', 'NonInvected', 'NonInvected', 'NonInvected', 'NonInvected', 'NonInvected', 'NonInvected', 'NonInvected', 'NonInvected', 'NonInvected', 'NonInvected', 'NonInvected', 'NonInvected', 'NonInvected', 'NonInvected', 'NonInvected', 'NonInvected', 'NonInvected', 'NonInvected', 'NonInvected', 'NonInvected', 'NonInvected', 'NonInvected', 'NonInvected', 'NonInvected', 'NonInvected', 'NonInvected', 'NonInvected', 'NonInvected', 'NonInvected', 'NonInvected', 'NonInvected', 'NonInvected', 'NonInvected', 'NonInvected', 'NonInvected', 'NonInvected', 'NonInvected', 'NonInvected', 'NonInvected', 'NonInvected', 'NonInvected', 'NonInvected', 'NonInvected', 'NonInvected', 'NonInvected', 'NonInvected', 'NonInvected', 'NonInvected', 'NonInvected', 'NonInvected', 'NonInvected', 'NonInvected', 'NonInvected', 'NonInvected', 'NonInvected', 'NonInvected', 'NonInvected', 'NonInvected', 'NonInvected', 'NonInvected', 'NonInvected', 'NonInvected', 'NonInvected', 'NonInvected', 'NonInvected', 'NonInvected', 'NonInvected', 'NonInvected', 'NonInvected', 'NonInvected', 'NonInvected', 'NonInvected', 'NonInvected', 'NonInvected', 'NonInvected', 'NonInvected', 'NonInvected', 'NonInvected', 'NonInvected', 'NonInvected', 'NonInvected', 'NonInvected', 'NonInvected', 'NonInvected', 'NonInvected', 'NonInvected', 'NonInvected', 'NonInvected', 'NonInvected', 'NonInvected', 'NonInvected', 'NonInvected', 'NonInvected', 'NonInvected', 'NonInvected', 'NonInvected', 'NonInvected', 'NonInvected', 'NonInvected', 'NonInvected', 'NonInvected', 'NonInvected', 'NonInvected', 'NonInvected', 'NonInvected', 'NonInvected', 'NonInvected', 'NonInvected', 'NonInvected', 'NonInvected', 'NonInvected', 'NonInvected', 'NonInvected', 'NonInvected', 'NonInvected', 'NonInvected', 'NonInvected', 'NonInvected', 'NonInvected', 'NonInvected', 'NonInvected', 'NonInvected', 'NonInvected', 'NonInvected', 'NonInvected', 'NonInvected', 'NonInvected', 'NonInvected', 'NonInvected', 'NonInvected', 'NonInvected', 'NonInvected', 'NonInvected', 'NonInvected', 'NonInvected', 'NonInvected', 'NonInvected', 'NonInvected', 'NonInvected', 'NonInvected', 'NonInvected', 'NonInvected', 'NonInvected', 'NonInvected', 'NonInvected', 'NonInvected', 'NonInvected', 'NonInvected', 'NonInvected', 'NonInvected', 'NonInvected', 'NonInvected', 'NonInvected', 'NonInvected', 'NonInvected', 'NonInvected', 'NonInvected', 'NonInvected', 'NonInvected', 'NonInvected', 'NonInvected', 'NonInvected', 'NonInvected', 'NonInvected', 'NonInvected', 'NonInvected', 'NonInvected', 'NonInvected', 'NonInvected', 'NonInvected', 'NonInvected', 'NonInvected', 'NonInvected', 'NonInvected', 'NonInvected', 'NonInvected', 'NonInvected', 'NonInvected', 'NonInvected', 'NonInvected', 'NonInvected', 'NonInvected', 'NonInvected', 'NonInvected', 'NonInvected', 'NonInvected', 'NonInvected', 'NonInvected', 'NonInvected', 'NonInvected', 'NonInvected', 'NonInvected', 'NonInvected', 'NonInvected', 'NonInvected', 'NonInvected', 'NonInvected', 'NonInvected', 'NonInvected', 'NonInvected', 'NonInvected', 'NonInvected', 'NonInvected', 'NonInvected', 'NonInvected', 'NonInvected', 'NonInvected', 'NonInvected', 'NonInvected', 'NonInvected', 'NonInvected', 'NonInvected', 'NonInvected', 'NonInvected', 'NonInvected', 'NonInvected', 'NonInvected', 'NonInvected', 'NonInvected', 'NonInvected', 'NonInvected', 'NonInvected', 'NonInvected', 'NonInvected', 'NonInvected', 'NonInvected', 'NonInvected', 'NonInvected', 'NonInvected', 'NonInvected', 'NonInvected', 'NonInvected', 'NonInvected', 'NonInvected', 'NonInvected', 'NonInvected', 'NonInvected', 'NonInvected', 'NonInvected', 'NonInvected', 'NonInvected', 'NonInvected', 'NonInvected', 'NonInvected', 'NonInvected', 'NonInvected', 'NonInvected', 'NonInvected', 'NonInvected', 'NonInvected', 'NonInvected', 'NonInvected', 'NonInvected', 'NonInvected', 'NonInvected', 'NonInvected', 'NonInvected', 'NonInvected', 'NonInvected', 'NonInvected', 'NonInvected', 'NonInvected', 'NonInvected', 'NonInvected', 'NonInvected', 'NonInvected', 'NonInvected', 'NonInvected', 'NonInvected', 'NonInvected', 'NonInvected', 'NonInvected', 'NonInvected', 'NonInvected', 'NonInvected', 'NonInvected', 'NonInvected', 'NonInvected', 'NonInvected', 'NonInvected', 'NonInvected', 'NonInvected', 'NonInvected', 'NonInvected', 'NonInvected', 'NonInvected', 'NonInvected', 'NonInvected', 'NonInvected', 'NonInvected', 'NonInvected', 'NonInvected', 'NonInvected', 'NonInvected', 'NonInvected', 'NonInvected', 'NonInvected', 'NonInvected', 'NonInvected', 'NonInvected', 'NonInvected', 'NonInvected', 'NonInvected', 'NonInvected', 'NonInvected', 'NonInvected', 'NonInvected', 'NonInvected', 'NonInvected', 'NonInvected', 'NonInvected', 'NonInvected', 'NonInvected', 'NonInvected', 'NonInvected', 'NonInvected', 'NonInvected', 'NonInvected', 'NonInvected', 'NonInvected', 'NonInvected', 'NonInvected', 'NonInvected', 'NonInvected', 'NonInvected', 'NonInvected', 'NonInvected', 'NonInvected', 'NonInvected', 'NonInvected', 'NonInvected', 'NonInvected', 'NonInvected', 'NonInvected', 'NonInvected', 'NonInvected', 'NonInvected', 'NonInvected', 'NonInvected', 'NonInvected', 'NonInvected', 'NonInvected', 'NonInvected', 'NonInvected', 'NonInvected', 'NonInvected', 'NonInvected', 'NonInvected', 'NonInvected', 'NonInvected', 'NonInvected', 'NonInvected', 'NonInvected', 'NonInvected', 'NonInvected', 'NonInvected', 'NonInvected', 'NonInvected', 'NonInvected', 'NonInvected', 'NonInvected', 'NonInvected', 'NonInvected', 'NonInvected', 'NonInvected', 'NonInvected', 'NonInvected', 'NonInvected', 'NonInvected', 'NonInvected', 'NonInvected', 'NonInvected', 'NonInvected', 'NonInvected', 'NonInvected', 'NonInvected', 'NonInvected', 'NonInvected', 'NonInvected', 'NonInvected', 'NonInvected', 'NonInvected', 'NonInvected', 'NonInvected', 'NonInvected', 'NonInvected', 'NonInvected', 'NonInvected', 'NonInvected', 'NonInvected', 'NonInvected', 'NonInvected', 'NonInvected', 'NonInvected', 'NonInvected', 'NonInvected', 'NonInvected', 'NonInvected', 'NonInvected', 'NonInvected', 'NonInvected', 'NonInvected', 'NonInvected', 'NonInvected', 'NonInvected', 'NonInvected', 'NonInvected', 'NonInvected', 'NonInvected', 'NonInvected', 'NonInvected', 'NonInvected', 'NonInvected', 'NonInvected', 'NonInvected', 'NonInvected', 'NonInvected', 'NonInvected', 'NonInvected', 'NonInvected', 'NonInvected', 'NonInvected', 'NonInvected', 'NonInvected', 'NonInvected', 'NonInvected', 'NonInvected', 'NonInvected', 'NonInvected', 'NonInvected', 'NonInvected', 'NonInvected', 'NonInvected', 'NonInvected', 'NonInvected', 'NonInvected', 'NonInvected', 'NonInvected', 'NonInvected', 'NonInvected', 'NonInvected', 'NonInvected', 'NonInvected', 'NonInvected', 'NonInvected', 'NonInvected', 'NonInvected', 'NonInvected', 'NonInvected', 'NonInvected', 'NonInvected', 'NonInvected', 'NonInvected', 'NonInvected', 'NonInvected', 'NonInvected', 'NonInvected', 'NonInvected', 'NonInvected', 'NonInvected', 'NonInvected', 'NonInvected', 'NonInvected', 'NonInvected', 'NonInvected', 'NonInvected', 'NonInvected', 'NonInvected', 'NonInvected', 'NonInvected', 'NonInvected', 'NonInvected', 'NonInvected', 'NonInvected', 'NonInvected', 'NonInvected', 'NonInvected', 'NonInvected', 'NonInvected', 'NonInvected', 'NonInvected', 'NonInvected', 'NonInvected', 'NonInvected', 'NonInvected', 'NonInvected', 'NonInvected', 'NonInvected', 'NonInvected', 'NonInvected', 'NonInvected']\n"
          ]
        }
      ]
    },
    {
      "cell_type": "code",
      "source": [
        "# encode the labels, converting them from strings to integers\n",
        "lb = LabelBinarizer()\n",
        "labels = lb.fit_transform(labels)"
      ],
      "metadata": {
        "id": "KnPmPBpGbw_B"
      },
      "execution_count": 7,
      "outputs": []
    },
    {
      "cell_type": "code",
      "source": [
        "# perform a training and testing split, using 75% of the data for\n",
        "# training and 25% for evaluation\n",
        "(trainX, testX, trainY, testY) = train_test_split(np.array(data),\tnp.array(labels), test_size=0.25, shuffle=True)\n",
        "print(trainX.shape)\n",
        "print(testX.shape)"
      ],
      "metadata": {
        "id": "jWKkkwTPb8Oe",
        "colab": {
          "base_uri": "https://localhost:8080/"
        },
        "outputId": "ac147018-8099-4e3e-9619-5120f3da08c2"
      },
      "execution_count": 8,
      "outputs": [
        {
          "output_type": "stream",
          "name": "stdout",
          "text": [
            "(1575, 224, 224, 3)\n",
            "(526, 224, 224, 3)\n"
          ]
        }
      ]
    },
    {
      "cell_type": "code",
      "source": [
        "!pip install -U --pre efficientnet"
      ],
      "metadata": {
        "colab": {
          "base_uri": "https://localhost:8080/"
        },
        "id": "iNCya2ORHE6y",
        "outputId": "5aa1fa7e-e586-465b-80d6-5ba45a760e14"
      },
      "execution_count": 9,
      "outputs": [
        {
          "output_type": "stream",
          "name": "stdout",
          "text": [
            "Looking in indexes: https://pypi.org/simple, https://us-python.pkg.dev/colab-wheels/public/simple/\n",
            "Collecting efficientnet\n",
            "  Downloading efficientnet-1.1.1-py3-none-any.whl (18 kB)\n",
            "Requirement already satisfied: scikit-image in /usr/local/lib/python3.7/dist-packages (from efficientnet) (0.18.3)\n",
            "Collecting keras-applications<=1.0.8,>=1.0.7\n",
            "  Downloading Keras_Applications-1.0.8-py3-none-any.whl (50 kB)\n",
            "\u001b[K     |████████████████████████████████| 50 kB 5.3 MB/s \n",
            "\u001b[?25hRequirement already satisfied: h5py in /usr/local/lib/python3.7/dist-packages (from keras-applications<=1.0.8,>=1.0.7->efficientnet) (3.1.0)\n",
            "Requirement already satisfied: numpy>=1.9.1 in /usr/local/lib/python3.7/dist-packages (from keras-applications<=1.0.8,>=1.0.7->efficientnet) (1.21.6)\n",
            "Requirement already satisfied: cached-property in /usr/local/lib/python3.7/dist-packages (from h5py->keras-applications<=1.0.8,>=1.0.7->efficientnet) (1.5.2)\n",
            "Requirement already satisfied: PyWavelets>=1.1.1 in /usr/local/lib/python3.7/dist-packages (from scikit-image->efficientnet) (1.3.0)\n",
            "Requirement already satisfied: pillow!=7.1.0,!=7.1.1,>=4.3.0 in /usr/local/lib/python3.7/dist-packages (from scikit-image->efficientnet) (7.1.2)\n",
            "Requirement already satisfied: networkx>=2.0 in /usr/local/lib/python3.7/dist-packages (from scikit-image->efficientnet) (2.6.3)\n",
            "Requirement already satisfied: matplotlib!=3.0.0,>=2.0.0 in /usr/local/lib/python3.7/dist-packages (from scikit-image->efficientnet) (3.2.2)\n",
            "Requirement already satisfied: tifffile>=2019.7.26 in /usr/local/lib/python3.7/dist-packages (from scikit-image->efficientnet) (2021.11.2)\n",
            "Requirement already satisfied: imageio>=2.3.0 in /usr/local/lib/python3.7/dist-packages (from scikit-image->efficientnet) (2.4.1)\n",
            "Requirement already satisfied: scipy>=1.0.1 in /usr/local/lib/python3.7/dist-packages (from scikit-image->efficientnet) (1.7.3)\n",
            "Requirement already satisfied: pyparsing!=2.0.4,!=2.1.2,!=2.1.6,>=2.0.1 in /usr/local/lib/python3.7/dist-packages (from matplotlib!=3.0.0,>=2.0.0->scikit-image->efficientnet) (3.0.9)\n",
            "Requirement already satisfied: python-dateutil>=2.1 in /usr/local/lib/python3.7/dist-packages (from matplotlib!=3.0.0,>=2.0.0->scikit-image->efficientnet) (2.8.2)\n",
            "Requirement already satisfied: kiwisolver>=1.0.1 in /usr/local/lib/python3.7/dist-packages (from matplotlib!=3.0.0,>=2.0.0->scikit-image->efficientnet) (1.4.3)\n",
            "Requirement already satisfied: cycler>=0.10 in /usr/local/lib/python3.7/dist-packages (from matplotlib!=3.0.0,>=2.0.0->scikit-image->efficientnet) (0.11.0)\n",
            "Requirement already satisfied: typing-extensions in /usr/local/lib/python3.7/dist-packages (from kiwisolver>=1.0.1->matplotlib!=3.0.0,>=2.0.0->scikit-image->efficientnet) (4.1.1)\n",
            "Requirement already satisfied: six>=1.5 in /usr/local/lib/python3.7/dist-packages (from python-dateutil>=2.1->matplotlib!=3.0.0,>=2.0.0->scikit-image->efficientnet) (1.15.0)\n",
            "Installing collected packages: keras-applications, efficientnet\n",
            "Successfully installed efficientnet-1.1.1 keras-applications-1.0.8\n"
          ]
        }
      ]
    },
    {
      "cell_type": "code",
      "source": [
        "from efficientnet.tfkeras import EfficientNetB0"
      ],
      "metadata": {
        "id": "USNCCsfHHJeY"
      },
      "execution_count": 10,
      "outputs": []
    },
    {
      "cell_type": "code",
      "source": [
        "\n",
        "model = EfficientNetB0(include_top=False, input_shape=(224,224,3), weights='noisy-student')\n",
        "\n",
        "#freeze model\n",
        "model.trainable = False"
      ],
      "metadata": {
        "id": "LXuUUyxqRWDf",
        "colab": {
          "base_uri": "https://localhost:8080/"
        },
        "outputId": "89e0d8dc-58cd-4c2a-f780-0a908f96f24d"
      },
      "execution_count": 11,
      "outputs": [
        {
          "output_type": "stream",
          "name": "stdout",
          "text": [
            "Downloading data from https://github.com/qubvel/efficientnet/releases/download/v0.0.1/efficientnet-b0_noisy-student_notop.h5\n",
            "16703488/16696600 [==============================] - 0s 0us/step\n",
            "16711680/16696600 [==============================] - 0s 0us/step\n"
          ]
        }
      ]
    },
    {
      "cell_type": "code",
      "source": [
        "inputs = keras.Input(shape=(224,224,3))\n",
        "\n",
        "x = model(inputs, training=False)\n",
        "\n",
        "x = keras.layers.GlobalAveragePooling2D()(x)\n",
        "\n",
        "outputs = keras.layers.Dense(1, activation='sigmoid')(x)\n",
        "\n",
        "model = keras.Model(inputs=inputs, outputs=outputs, name=\"EfficientNet\")"
      ],
      "metadata": {
        "id": "xBJqUkT4RWIu"
      },
      "execution_count": 12,
      "outputs": []
    },
    {
      "cell_type": "code",
      "source": [
        "model.compile(optimizer=Adam(learning_rate = 0.001),\n",
        "              loss= 'binary_crossentropy',\n",
        "              metrics = ['acc'])"
      ],
      "metadata": {
        "id": "RHAGbDUyS3UR"
      },
      "execution_count": 13,
      "outputs": []
    },
    {
      "cell_type": "code",
      "source": [
        "model.summary()"
      ],
      "metadata": {
        "colab": {
          "base_uri": "https://localhost:8080/"
        },
        "id": "EiBoUTF8S5Vr",
        "outputId": "49f432ea-71a4-4f9c-ad27-ff32d598bd81"
      },
      "execution_count": 14,
      "outputs": [
        {
          "output_type": "stream",
          "name": "stdout",
          "text": [
            "Model: \"EfficientNet\"\n",
            "_________________________________________________________________\n",
            " Layer (type)                Output Shape              Param #   \n",
            "=================================================================\n",
            " input_2 (InputLayer)        [(None, 224, 224, 3)]     0         \n",
            "                                                                 \n",
            " efficientnet-b0 (Functional  (None, 7, 7, 1280)       4049564   \n",
            " )                                                               \n",
            "                                                                 \n",
            " global_average_pooling2d (G  (None, 1280)             0         \n",
            " lobalAveragePooling2D)                                          \n",
            "                                                                 \n",
            " dense (Dense)               (None, 1)                 1281      \n",
            "                                                                 \n",
            "=================================================================\n",
            "Total params: 4,050,845\n",
            "Trainable params: 1,281\n",
            "Non-trainable params: 4,049,564\n",
            "_________________________________________________________________\n"
          ]
        }
      ]
    },
    {
      "cell_type": "code",
      "source": [
        "history1 = model.fit(trainX,trainY, validation_data=(testX, testY), epochs=50, batch_size=32) "
      ],
      "metadata": {
        "colab": {
          "base_uri": "https://localhost:8080/"
        },
        "id": "7bG33DnMS7Wo",
        "outputId": "b1bc16c6-7426-4cde-c9c3-80e92c421e3a"
      },
      "execution_count": 15,
      "outputs": [
        {
          "output_type": "stream",
          "name": "stdout",
          "text": [
            "Epoch 1/50\n",
            "50/50 [==============================] - 69s 1s/step - loss: 0.4949 - acc: 0.8495 - val_loss: 0.3598 - val_acc: 0.9049\n",
            "Epoch 2/50\n",
            "50/50 [==============================] - 63s 1s/step - loss: 0.3315 - acc: 0.9029 - val_loss: 0.2928 - val_acc: 0.9163\n",
            "Epoch 3/50\n",
            "50/50 [==============================] - 63s 1s/step - loss: 0.2829 - acc: 0.9156 - val_loss: 0.2608 - val_acc: 0.9240\n",
            "Epoch 4/50\n",
            "50/50 [==============================] - 79s 2s/step - loss: 0.2583 - acc: 0.9168 - val_loss: 0.2382 - val_acc: 0.9316\n",
            "Epoch 5/50\n",
            "50/50 [==============================] - 81s 2s/step - loss: 0.2394 - acc: 0.9238 - val_loss: 0.2258 - val_acc: 0.9259\n",
            "Epoch 6/50\n",
            "50/50 [==============================] - 72s 1s/step - loss: 0.2252 - acc: 0.9263 - val_loss: 0.2144 - val_acc: 0.9297\n",
            "Epoch 7/50\n",
            "50/50 [==============================] - 71s 1s/step - loss: 0.2165 - acc: 0.9263 - val_loss: 0.2068 - val_acc: 0.9373\n",
            "Epoch 8/50\n",
            "50/50 [==============================] - 72s 1s/step - loss: 0.2098 - acc: 0.9276 - val_loss: 0.1985 - val_acc: 0.9373\n",
            "Epoch 9/50\n",
            "50/50 [==============================] - 72s 1s/step - loss: 0.2000 - acc: 0.9308 - val_loss: 0.1931 - val_acc: 0.9392\n",
            "Epoch 10/50\n",
            "50/50 [==============================] - 70s 1s/step - loss: 0.1954 - acc: 0.9314 - val_loss: 0.1869 - val_acc: 0.9392\n",
            "Epoch 11/50\n",
            "50/50 [==============================] - 72s 1s/step - loss: 0.1907 - acc: 0.9340 - val_loss: 0.1846 - val_acc: 0.9430\n",
            "Epoch 12/50\n",
            "50/50 [==============================] - 73s 1s/step - loss: 0.1849 - acc: 0.9390 - val_loss: 0.1789 - val_acc: 0.9411\n",
            "Epoch 13/50\n",
            "50/50 [==============================] - 70s 1s/step - loss: 0.1809 - acc: 0.9333 - val_loss: 0.1777 - val_acc: 0.9411\n",
            "Epoch 14/50\n",
            "50/50 [==============================] - 70s 1s/step - loss: 0.1781 - acc: 0.9359 - val_loss: 0.1726 - val_acc: 0.9487\n",
            "Epoch 15/50\n",
            "50/50 [==============================] - 71s 1s/step - loss: 0.1746 - acc: 0.9390 - val_loss: 0.1696 - val_acc: 0.9487\n",
            "Epoch 16/50\n",
            "50/50 [==============================] - 71s 1s/step - loss: 0.1734 - acc: 0.9403 - val_loss: 0.1663 - val_acc: 0.9487\n",
            "Epoch 17/50\n",
            "50/50 [==============================] - 71s 1s/step - loss: 0.1688 - acc: 0.9416 - val_loss: 0.1645 - val_acc: 0.9468\n",
            "Epoch 18/50\n",
            "50/50 [==============================] - 71s 1s/step - loss: 0.1667 - acc: 0.9422 - val_loss: 0.1625 - val_acc: 0.9468\n",
            "Epoch 19/50\n",
            "50/50 [==============================] - 70s 1s/step - loss: 0.1651 - acc: 0.9416 - val_loss: 0.1593 - val_acc: 0.9487\n",
            "Epoch 20/50\n",
            "50/50 [==============================] - 69s 1s/step - loss: 0.1637 - acc: 0.9435 - val_loss: 0.1592 - val_acc: 0.9506\n",
            "Epoch 21/50\n",
            "50/50 [==============================] - 71s 1s/step - loss: 0.1606 - acc: 0.9403 - val_loss: 0.1597 - val_acc: 0.9487\n",
            "Epoch 22/50\n",
            "50/50 [==============================] - 69s 1s/step - loss: 0.1584 - acc: 0.9435 - val_loss: 0.1576 - val_acc: 0.9487\n",
            "Epoch 23/50\n",
            "50/50 [==============================] - 71s 1s/step - loss: 0.1585 - acc: 0.9422 - val_loss: 0.1637 - val_acc: 0.9449\n",
            "Epoch 24/50\n",
            "50/50 [==============================] - 71s 1s/step - loss: 0.1571 - acc: 0.9448 - val_loss: 0.1535 - val_acc: 0.9487\n",
            "Epoch 25/50\n",
            "50/50 [==============================] - 68s 1s/step - loss: 0.1530 - acc: 0.9479 - val_loss: 0.1489 - val_acc: 0.9506\n",
            "Epoch 26/50\n",
            "50/50 [==============================] - 69s 1s/step - loss: 0.1511 - acc: 0.9498 - val_loss: 0.1474 - val_acc: 0.9506\n",
            "Epoch 27/50\n",
            "50/50 [==============================] - 69s 1s/step - loss: 0.1498 - acc: 0.9486 - val_loss: 0.1470 - val_acc: 0.9525\n",
            "Epoch 28/50\n",
            "50/50 [==============================] - 70s 1s/step - loss: 0.1504 - acc: 0.9467 - val_loss: 0.1445 - val_acc: 0.9506\n",
            "Epoch 29/50\n",
            "50/50 [==============================] - 69s 1s/step - loss: 0.1494 - acc: 0.9460 - val_loss: 0.1458 - val_acc: 0.9525\n",
            "Epoch 30/50\n",
            "50/50 [==============================] - 69s 1s/step - loss: 0.1464 - acc: 0.9492 - val_loss: 0.1422 - val_acc: 0.9525\n",
            "Epoch 31/50\n",
            "50/50 [==============================] - 69s 1s/step - loss: 0.1458 - acc: 0.9498 - val_loss: 0.1406 - val_acc: 0.9525\n",
            "Epoch 32/50\n",
            "50/50 [==============================] - 71s 1s/step - loss: 0.1446 - acc: 0.9492 - val_loss: 0.1443 - val_acc: 0.9525\n",
            "Epoch 33/50\n",
            "50/50 [==============================] - 69s 1s/step - loss: 0.1419 - acc: 0.9498 - val_loss: 0.1393 - val_acc: 0.9506\n",
            "Epoch 34/50\n",
            "50/50 [==============================] - 70s 1s/step - loss: 0.1416 - acc: 0.9537 - val_loss: 0.1383 - val_acc: 0.9525\n",
            "Epoch 35/50\n",
            "50/50 [==============================] - 69s 1s/step - loss: 0.1400 - acc: 0.9524 - val_loss: 0.1408 - val_acc: 0.9525\n",
            "Epoch 36/50\n",
            "50/50 [==============================] - 69s 1s/step - loss: 0.1396 - acc: 0.9505 - val_loss: 0.1389 - val_acc: 0.9525\n",
            "Epoch 37/50\n",
            "50/50 [==============================] - 70s 1s/step - loss: 0.1371 - acc: 0.9486 - val_loss: 0.1358 - val_acc: 0.9525\n",
            "Epoch 38/50\n",
            "50/50 [==============================] - 71s 1s/step - loss: 0.1366 - acc: 0.9517 - val_loss: 0.1341 - val_acc: 0.9525\n",
            "Epoch 39/50\n",
            "50/50 [==============================] - 71s 1s/step - loss: 0.1363 - acc: 0.9537 - val_loss: 0.1348 - val_acc: 0.9525\n",
            "Epoch 40/50\n",
            "50/50 [==============================] - 69s 1s/step - loss: 0.1347 - acc: 0.9517 - val_loss: 0.1363 - val_acc: 0.9525\n",
            "Epoch 41/50\n",
            "50/50 [==============================] - 69s 1s/step - loss: 0.1339 - acc: 0.9537 - val_loss: 0.1334 - val_acc: 0.9525\n",
            "Epoch 42/50\n",
            "50/50 [==============================] - 71s 1s/step - loss: 0.1334 - acc: 0.9537 - val_loss: 0.1307 - val_acc: 0.9544\n",
            "Epoch 43/50\n",
            "50/50 [==============================] - 69s 1s/step - loss: 0.1316 - acc: 0.9537 - val_loss: 0.1316 - val_acc: 0.9525\n",
            "Epoch 44/50\n",
            "50/50 [==============================] - 71s 1s/step - loss: 0.1317 - acc: 0.9562 - val_loss: 0.1304 - val_acc: 0.9525\n",
            "Epoch 45/50\n",
            "50/50 [==============================] - 69s 1s/step - loss: 0.1305 - acc: 0.9537 - val_loss: 0.1332 - val_acc: 0.9544\n",
            "Epoch 46/50\n",
            "50/50 [==============================] - 70s 1s/step - loss: 0.1296 - acc: 0.9543 - val_loss: 0.1290 - val_acc: 0.9544\n",
            "Epoch 47/50\n",
            "50/50 [==============================] - 70s 1s/step - loss: 0.1305 - acc: 0.9562 - val_loss: 0.1325 - val_acc: 0.9525\n",
            "Epoch 48/50\n",
            "50/50 [==============================] - 71s 1s/step - loss: 0.1306 - acc: 0.9556 - val_loss: 0.1275 - val_acc: 0.9544\n",
            "Epoch 49/50\n",
            "50/50 [==============================] - 69s 1s/step - loss: 0.1269 - acc: 0.9556 - val_loss: 0.1265 - val_acc: 0.9544\n",
            "Epoch 50/50\n",
            "50/50 [==============================] - 71s 1s/step - loss: 0.1262 - acc: 0.9562 - val_loss: 0.1292 - val_acc: 0.9525\n"
          ]
        }
      ]
    },
    {
      "cell_type": "code",
      "source": [
        "import matplotlib.pyplot as plt\n",
        "\n",
        "print(history1.history.keys())\n",
        "# summarize history for accuracy\n",
        "plt.plot(history1.history['acc'])\n",
        "plt.plot(history1.history['val_acc'])\n",
        "plt.title('model accuracy')\n",
        "plt.ylabel('acc')\n",
        "plt.xlabel('epoch')\n",
        "plt.legend(['train', 'test'], loc='upper left')\n",
        "plt.show()\n",
        "# summarize history for loss\n",
        "plt.plot(history1.history['loss'])\n",
        "plt.plot(history1.history['val_loss'])\n",
        "plt.title('model loss')\n",
        "plt.ylabel('loss')\n",
        "plt.xlabel('epoch')\n",
        "plt.legend(['train', 'test'], loc='upper left')\n",
        "plt.show()"
      ],
      "metadata": {
        "colab": {
          "base_uri": "https://localhost:8080/",
          "height": 590
        },
        "id": "XnTc7PKARScH",
        "outputId": "224d51c4-e1b1-45b8-8673-55a0a04f3bba"
      },
      "execution_count": 16,
      "outputs": [
        {
          "output_type": "stream",
          "name": "stdout",
          "text": [
            "dict_keys(['loss', 'acc', 'val_loss', 'val_acc'])\n"
          ]
        },
        {
          "output_type": "display_data",
          "data": {
            "text/plain": [
              "<Figure size 432x288 with 1 Axes>"
            ],
            "image/png": "[encoded data removed]"
          },
          "metadata": {
            "needs_background": "light"
          }
        },
        {
          "output_type": "display_data",
          "data": {
            "text/plain": [
              "<Figure size 432x288 with 1 Axes>"
            ],
            "image/png": "[encoded data removed]"
          },
          "metadata": {
            "needs_background": "light"
          }
        }
      ]
    },
    {
      "cell_type": "code",
      "source": [
        "#fine-tunning\n",
        "model.trainable = True\n",
        "\n",
        "model.compile(optimizer=Adam(learning_rate = 0.00001),\n",
        "              loss= 'binary_crossentropy',\n",
        "              metrics = ['acc'])\n"
      ],
      "metadata": {
        "id": "0D46s7GES7b9"
      },
      "execution_count": 17,
      "outputs": []
    },
    {
      "cell_type": "code",
      "source": [
        "history2 = model.fit(trainX,trainY, validation_data=(testX, testY), epochs=25, batch_size=32)"
      ],
      "metadata": {
        "colab": {
          "base_uri": "https://localhost:8080/"
        },
        "id": "vB8TAtN7VP-7",
        "outputId": "a5ef34de-948e-4f7d-ac4a-ee94a5a01f5f"
      },
      "execution_count": 18,
      "outputs": [
        {
          "output_type": "stream",
          "name": "stdout",
          "text": [
            "Epoch 1/25\n",
            "50/50 [==============================] - 223s 4s/step - loss: 0.1317 - acc: 0.9530 - val_loss: 0.1113 - val_acc: 0.9563\n",
            "Epoch 2/25\n",
            "50/50 [==============================] - 209s 4s/step - loss: 0.1075 - acc: 0.9575 - val_loss: 0.1147 - val_acc: 0.9525\n",
            "Epoch 3/25\n",
            "50/50 [==============================] - 210s 4s/step - loss: 0.1014 - acc: 0.9619 - val_loss: 0.0986 - val_acc: 0.9658\n",
            "Epoch 4/25\n",
            "50/50 [==============================] - 210s 4s/step - loss: 0.0853 - acc: 0.9683 - val_loss: 0.0871 - val_acc: 0.9677\n",
            "Epoch 5/25\n",
            "50/50 [==============================] - 211s 4s/step - loss: 0.0751 - acc: 0.9752 - val_loss: 0.0880 - val_acc: 0.9696\n",
            "Epoch 6/25\n",
            "50/50 [==============================] - 216s 4s/step - loss: 0.0735 - acc: 0.9740 - val_loss: 0.0805 - val_acc: 0.9677\n",
            "Epoch 7/25\n",
            "50/50 [==============================] - 211s 4s/step - loss: 0.0798 - acc: 0.9689 - val_loss: 0.0850 - val_acc: 0.9734\n",
            "Epoch 8/25\n",
            "50/50 [==============================] - 210s 4s/step - loss: 0.0611 - acc: 0.9778 - val_loss: 0.0925 - val_acc: 0.9677\n",
            "Epoch 9/25\n",
            "50/50 [==============================] - 212s 4s/step - loss: 0.0653 - acc: 0.9771 - val_loss: 0.0878 - val_acc: 0.9620\n",
            "Epoch 10/25\n",
            "50/50 [==============================] - 211s 4s/step - loss: 0.0487 - acc: 0.9822 - val_loss: 0.1053 - val_acc: 0.9563\n",
            "Epoch 11/25\n",
            "50/50 [==============================] - 214s 4s/step - loss: 0.0458 - acc: 0.9841 - val_loss: 0.1164 - val_acc: 0.9563\n",
            "Epoch 12/25\n",
            "50/50 [==============================] - 215s 4s/step - loss: 0.0383 - acc: 0.9867 - val_loss: 0.0782 - val_acc: 0.9715\n",
            "Epoch 13/25\n",
            "50/50 [==============================] - 213s 4s/step - loss: 0.0321 - acc: 0.9892 - val_loss: 0.0810 - val_acc: 0.9715\n",
            "Epoch 14/25\n",
            "50/50 [==============================] - 212s 4s/step - loss: 0.0274 - acc: 0.9911 - val_loss: 0.0752 - val_acc: 0.9715\n",
            "Epoch 15/25\n",
            "50/50 [==============================] - 213s 4s/step - loss: 0.0336 - acc: 0.9879 - val_loss: 0.0773 - val_acc: 0.9677\n",
            "Epoch 16/25\n",
            "50/50 [==============================] - 212s 4s/step - loss: 0.0232 - acc: 0.9937 - val_loss: 0.0799 - val_acc: 0.9734\n",
            "Epoch 17/25\n",
            "50/50 [==============================] - 219s 4s/step - loss: 0.0186 - acc: 0.9968 - val_loss: 0.0810 - val_acc: 0.9753\n",
            "Epoch 18/25\n",
            "50/50 [==============================] - 213s 4s/step - loss: 0.0202 - acc: 0.9924 - val_loss: 0.0865 - val_acc: 0.9715\n",
            "Epoch 19/25\n",
            "50/50 [==============================] - 213s 4s/step - loss: 0.0147 - acc: 0.9975 - val_loss: 0.0864 - val_acc: 0.9734\n",
            "Epoch 20/25\n",
            "50/50 [==============================] - 214s 4s/step - loss: 0.0117 - acc: 0.9981 - val_loss: 0.0792 - val_acc: 0.9734\n",
            "Epoch 21/25\n",
            "50/50 [==============================] - 214s 4s/step - loss: 0.0099 - acc: 0.9987 - val_loss: 0.0741 - val_acc: 0.9696\n",
            "Epoch 22/25\n",
            "50/50 [==============================] - 214s 4s/step - loss: 0.0089 - acc: 0.9981 - val_loss: 0.0873 - val_acc: 0.9734\n",
            "Epoch 23/25\n",
            "50/50 [==============================] - 216s 4s/step - loss: 0.0055 - acc: 1.0000 - val_loss: 0.1050 - val_acc: 0.9658\n",
            "Epoch 24/25\n",
            "50/50 [==============================] - 215s 4s/step - loss: 0.0063 - acc: 0.9994 - val_loss: 0.0846 - val_acc: 0.9753\n",
            "Epoch 25/25\n",
            "50/50 [==============================] - 216s 4s/step - loss: 0.0163 - acc: 0.9949 - val_loss: 0.0834 - val_acc: 0.9734\n"
          ]
        }
      ]
    },
    {
      "cell_type": "code",
      "source": [
        "import matplotlib.pyplot as plt\n",
        "\n",
        "print(history2.history.keys())\n",
        "# summarize history for accuracy\n",
        "plt.plot(history2.history['acc'])\n",
        "plt.plot(history2.history['val_acc'])\n",
        "plt.title('model accuracy')\n",
        "plt.ylabel('acc')\n",
        "plt.xlabel('epoch')\n",
        "plt.legend(['train', 'test'], loc='upper left')\n",
        "plt.show()\n",
        "# summarize history for loss\n",
        "plt.plot(history2.history['loss'])\n",
        "plt.plot(history2.history['val_loss'])\n",
        "plt.title('model loss')\n",
        "plt.ylabel('loss')\n",
        "plt.xlabel('epoch')\n",
        "plt.legend(['train', 'test'], loc='upper left')\n",
        "plt.show()"
      ],
      "metadata": {
        "colab": {
          "base_uri": "https://localhost:8080/",
          "height": 590
        },
        "id": "iqkwrWOSebih",
        "outputId": "53b113ef-6c91-495f-d6fd-36110b60ca12"
      },
      "execution_count": 19,
      "outputs": [
        {
          "output_type": "stream",
          "name": "stdout",
          "text": [
            "dict_keys(['loss', 'acc', 'val_loss', 'val_acc'])\n"
          ]
        },
        {
          "output_type": "display_data",
          "data": {
            "text/plain": [
              "<Figure size 432x288 with 1 Axes>"
            ],
            "image/png": "[encoded data removed]"
          },
          "metadata": {
            "needs_background": "light"
          }
        },
        {
          "output_type": "display_data",
          "data": {
            "text/plain": [
              "<Figure size 432x288 with 1 Axes>"
            ],
            "image/png": "[encoded data removed]"
          },
          "metadata": {
            "needs_background": "light"
          }
        }
      ]
    },
    {
      "cell_type": "code",
      "source": [
        "from sklearn.metrics import classification_report\n",
        "\n",
        "predictions = model.predict(testX)\n",
        "predictions = predictions.flatten()\n",
        "print (predictions.round(2))\n",
        "\n"
      ],
      "metadata": {
        "colab": {
          "base_uri": "https://localhost:8080/"
        },
        "id": "5qPYM8U_NG3W",
        "outputId": "dc386eaa-caaf-4501-adb5-3b19d0036108"
      },
      "execution_count": 20,
      "outputs": [
        {
          "output_type": "stream",
          "name": "stdout",
          "text": [
            "[1.   1.   0.   0.   0.99 0.   0.   1.   0.97 1.   1.   0.   0.01 1.\n",
            " 1.   0.68 0.51 1.   0.   1.   0.53 0.   1.   0.   0.   1.   0.97 1.\n",
            " 1.   0.   0.94 0.   0.   0.98 1.   1.   0.   0.   1.   1.   1.   1.\n",
            " 1.   1.   0.99 1.   0.95 0.   0.   0.   0.93 0.   0.99 0.   0.19 0.72\n",
            " 1.   1.   1.   1.   0.   1.   0.   0.   1.   1.   1.   1.   0.   0.99\n",
            " 0.   1.   0.   0.   0.   0.   0.41 0.   0.   0.   1.   0.   0.   0.\n",
            " 0.   1.   0.   0.   1.   0.   0.   0.   0.97 1.   0.   0.   0.99 0.\n",
            " 0.   1.   1.   1.   0.   0.   1.   1.   1.   0.   0.01 0.21 0.   1.\n",
            " 0.   0.   1.   0.   1.   0.99 0.   1.   1.   0.   1.   0.   0.97 0.\n",
            " 0.99 0.   0.   0.   0.   0.   1.   1.   0.   0.   0.16 0.   0.   0.97\n",
            " 0.   1.   0.   0.   0.   0.   1.   1.   0.   1.   0.68 0.   0.11 0.99\n",
            " 0.   0.   0.   1.   1.   0.85 0.   1.   0.   0.   0.   0.   0.99 0.\n",
            " 1.   1.   0.   1.   0.   1.   0.   0.   0.   0.99 0.   1.   0.   0.\n",
            " 0.98 0.86 0.   0.   0.   0.   0.   0.6  0.95 0.   1.   0.98 0.94 1.\n",
            " 0.   0.   1.   0.11 0.   1.   1.   0.   1.   0.   1.   0.96 1.   0.\n",
            " 1.   1.   0.09 0.01 0.08 1.   1.   0.93 1.   0.   0.   1.   0.   0.\n",
            " 0.27 0.   0.23 1.   1.   0.   1.   1.   1.   1.   1.   1.   1.   0.26\n",
            " 0.97 0.   0.   1.   0.79 0.   0.   0.   1.   0.   0.   0.95 1.   0.01\n",
            " 0.   1.   0.   1.   0.   0.99 0.   0.99 0.   0.   1.   0.   0.   0.\n",
            " 0.   1.   0.97 0.98 1.   0.   0.   0.   1.   1.   0.   0.   0.   0.\n",
            " 1.   0.   1.   0.   1.   0.   1.   0.11 0.   0.92 0.   0.   0.   1.\n",
            " 1.   0.   0.97 0.   1.   0.13 1.   1.   0.   0.   1.   0.   1.   0.\n",
            " 1.   0.   0.   0.04 1.   0.05 0.   0.   0.07 0.   1.   0.   0.96 1.\n",
            " 0.   1.   1.   1.   0.   0.   1.   1.   0.   0.   1.   1.   0.85 1.\n",
            " 0.   0.   1.   0.   0.   1.   0.   0.   1.   0.   1.   0.   0.   0.\n",
            " 0.   0.9  0.01 1.   0.08 0.   1.   1.   0.97 0.   0.   0.   0.99 0.68\n",
            " 0.05 0.   1.   1.   0.98 0.   0.76 1.   0.01 0.   0.81 0.   1.   0.\n",
            " 1.   0.   1.   0.98 0.   0.   1.   0.99 1.   1.   0.99 1.   0.93 1.\n",
            " 0.   1.   0.01 0.   0.   0.   0.   0.05 0.   0.   0.   0.98 0.   0.99\n",
            " 0.   0.   1.   0.94 0.1  0.91 0.   1.   0.   0.   1.   0.   0.99 1.\n",
            " 0.99 0.81 1.   0.97 1.   1.   0.   0.   0.   1.   0.   1.   0.99 0.\n",
            " 0.   0.   1.   1.   1.   1.   0.99 0.   0.   1.   0.   1.   1.   1.\n",
            " 0.99 0.   1.   0.63 1.   1.   1.   1.   1.   0.   1.   0.92 1.   0.\n",
            " 1.   0.98 1.   1.   0.   1.   0.07 1.   0.   1.   0.   0.   0.52 0.\n",
            " 1.   0.   1.   0.   0.   1.   1.   0.99 0.   1.   1.   0.   0.   0.09\n",
            " 1.   0.   0.   0.   0.   1.   1.   0.   0.   0.99 0.   1.   0.   0.\n",
            " 0.13 0.   1.   0.01 0.   0.   1.   0.93 0.76 0.93 0.13 1.   0.   0.\n",
            " 0.99 0.98 1.   0.05 0.   0.   0.   0.96]\n"
          ]
        }
      ]
    },
    {
      "cell_type": "code",
      "source": [
        "predY = np.where(predictions > 0.5, 1, 0)\n",
        "print(predY)"
      ],
      "metadata": {
        "colab": {
          "base_uri": "https://localhost:8080/"
        },
        "id": "ZLprzzZhWxfp",
        "outputId": "4b6d34a4-11e6-4af3-b519-8bafa299bd75"
      },
      "execution_count": 21,
      "outputs": [
        {
          "output_type": "stream",
          "name": "stdout",
          "text": [
            "[1 1 0 0 1 0 0 1 1 1 1 0 0 1 1 1 1 1 0 1 1 0 1 0 0 1 1 1 1 0 1 0 0 1 1 1 0\n",
            " 0 1 1 1 1 1 1 1 1 1 0 0 0 1 0 1 0 0 1 1 1 1 1 0 1 0 0 1 1 1 1 0 1 0 1 0 0\n",
            " 0 0 0 0 0 0 1 0 0 0 0 1 0 0 1 0 0 0 1 1 0 0 1 0 0 1 1 1 0 0 1 1 1 0 0 0 0\n",
            " 1 0 0 1 0 1 1 0 1 1 0 1 0 1 0 1 0 0 0 0 0 1 1 0 0 0 0 0 1 0 1 0 0 0 0 1 1\n",
            " 0 1 1 0 0 1 0 0 0 1 1 1 0 1 0 0 0 0 1 0 1 1 0 1 0 1 0 0 0 1 0 1 0 0 1 1 0\n",
            " 0 0 0 0 1 1 0 1 1 1 1 0 0 1 0 0 1 1 0 1 0 1 1 1 0 1 1 0 0 0 1 1 1 1 0 0 1\n",
            " 0 0 0 0 0 1 1 0 1 1 1 1 1 1 1 0 1 0 0 1 1 0 0 0 1 0 0 1 1 0 0 1 0 1 0 1 0\n",
            " 1 0 0 1 0 0 0 0 1 1 1 1 0 0 0 1 1 0 0 0 0 1 0 1 0 1 0 1 0 0 1 0 0 0 1 1 0\n",
            " 1 0 1 0 1 1 0 0 1 0 1 0 1 0 0 0 1 0 0 0 0 0 1 0 1 1 0 1 1 1 0 0 1 1 0 0 1\n",
            " 1 1 1 0 0 1 0 0 1 0 0 1 0 1 0 0 0 0 1 0 1 0 0 1 1 1 0 0 0 1 1 0 0 1 1 1 0\n",
            " 1 1 0 0 1 0 1 0 1 0 1 1 0 0 1 1 1 1 1 1 1 1 0 1 0 0 0 0 0 0 0 0 0 1 0 1 0\n",
            " 0 1 1 0 1 0 1 0 0 1 0 1 1 1 1 1 1 1 1 0 0 0 1 0 1 1 0 0 0 1 1 1 1 1 0 0 1\n",
            " 0 1 1 1 1 0 1 1 1 1 1 1 1 0 1 1 1 0 1 1 1 1 0 1 0 1 0 1 0 0 1 0 1 0 1 0 0\n",
            " 1 1 1 0 1 1 0 0 0 1 0 0 0 0 1 1 0 0 1 0 1 0 0 0 0 1 0 0 0 1 1 1 1 0 1 0 0\n",
            " 1 1 1 0 0 0 0 1]\n"
          ]
        }
      ]
    },
    {
      "cell_type": "code",
      "source": [
        "print(classification_report(testY, predY, target_names=lb.classes_))"
      ],
      "metadata": {
        "colab": {
          "base_uri": "https://localhost:8080/"
        },
        "id": "gxgruMTcTESd",
        "outputId": "cbfe523b-c5c8-4aa8-c4ba-07c2f4541d23"
      },
      "execution_count": 22,
      "outputs": [
        {
          "output_type": "stream",
          "name": "stdout",
          "text": [
            "              precision    recall  f1-score   support\n",
            "\n",
            "    Invected       0.97      0.98      0.97       264\n",
            " NonInvected       0.98      0.97      0.97       262\n",
            "\n",
            "    accuracy                           0.97       526\n",
            "   macro avg       0.97      0.97      0.97       526\n",
            "weighted avg       0.97      0.97      0.97       526\n",
            "\n"
          ]
        }
      ]
    },
    {
      "cell_type": "code",
      "source": [
        "import sklearn.metrics as metrics\n",
        "import seaborn as sn\n",
        "import matplotlib.pyplot as plt\n",
        "\n",
        "confusion_matrix = metrics.confusion_matrix(testY,predY)\n",
        "x_axis_labels = ['Invected','Non Invected']\n",
        "y_axis_labels = ['Invected','Non Invected']\n",
        "sn.heatmap(confusion_matrix, xticklabels=x_axis_labels, yticklabels=y_axis_labels, annot=True, fmt='d')\n",
        "plt.xlabel('Predicted')\n",
        "plt.ylabel('True')\n",
        "plt.tight_layout\n",
        "plt.show()\n"
      ],
      "metadata": {
        "colab": {
          "base_uri": "https://localhost:8080/",
          "height": 279
        },
        "id": "xn95ecrnX7kP",
        "outputId": "407a25bc-8446-41bc-bc48-38eb1a5450c2"
      },
      "execution_count": 23,
      "outputs": [
        {
          "output_type": "display_data",
          "data": {
            "text/plain": [
              "<Figure size 432x288 with 2 Axes>"
            ],
            "image/png": "[encoded data removed]"
          },
          "metadata": {
            "needs_background": "light"
          }
        }
      ]
    },
    {
      "cell_type": "code",
      "source": [
        "model.save ('EfficientNet_Model.h5')"
      ],
      "metadata": {
        "id": "tOMFfwOK2wNQ"
      },
      "execution_count": 24,
      "outputs": []
    }
  ]
}