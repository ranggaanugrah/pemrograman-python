{
  "nbformat": 4,
  "nbformat_minor": 0,
  "metadata": {
    "colab": {
      "name": "Rangga Anugrah_1101208193.ipynb",
      "provenance": [],
      "authorship_tag": "ABX9TyPihxXX6impXlcega9afKPm",
      "include_colab_link": true
    },
    "kernelspec": {
      "name": "python3",
      "display_name": "Python 3"
    }
  },
  "cells": [
    {
      "cell_type": "markdown",
      "metadata": {
        "id": "view-in-github",
        "colab_type": "text"
      },
      "source": [
        "<a href=\"https://colab.research.google.com/github/ranggaanugrah/pemrograman-python/blob/main/Tugas%20Grafik.ipynb\" target=\"_parent\"><img src=\"https://colab.research.google.com/assets/colab-badge.svg\" alt=\"Open In Colab\"/></a>"
      ]
    },
    {
      "cell_type": "code",
      "metadata": {
        "id": "WsE3keqzWPUb"
      },
      "source": [
        "import numpy as np\r\n",
        "import matplotlib.pyplot as plt"
      ],
      "execution_count": 1,
      "outputs": []
    },
    {
      "cell_type": "code",
      "metadata": {
        "id": "PhFApSkcWqDc"
      },
      "source": [
        "def cos(frek,tipe,ht,hr,d):\r\n",
        "    if frek in range(150,1501):\r\n",
        "        Ca=69.55\r\n",
        "        Cb=26.16\r\n",
        "    elif frek in range(1501,2001):\r\n",
        "        Ca=46.3\r\n",
        "        Cb=33.9\r\n",
        "    \r\n",
        "    if tipe=='urban' :\r\n",
        "        Cm=0\r\n",
        "    elif tipe=='suburban' :\r\n",
        "        Cm= -2*((np.log10((frek/28)**2))-5.4)\r\n",
        "    elif tipe=='open' :\r\n",
        "        Cm= -4.78*(np.log10(frek))+18.33*(np.log10(frek))-40.94\r\n",
        "    else :\r\n",
        "        Cm='tipe salah'\r\n",
        "    \r\n",
        "    ahr = (1.1*np.log10(frek)-0.7)*hr-(1.56*np.log10(frek)-1.8)\r\n",
        "    Lp = Ca+(Cb*np.log10(frek))-(13.83*np.log(ht))-ahr+((44.9-6.55*np.log10(ht))*np.log10(d))-Cm\r\n",
        "    \r\n",
        "    return Lp"
      ],
      "execution_count": 2,
      "outputs": []
    },
    {
      "cell_type": "markdown",
      "metadata": {
        "id": "x_wMS6HcdBmv"
      },
      "source": [
        "# **GRAFIK 1**"
      ]
    },
    {
      "cell_type": "code",
      "metadata": {
        "id": "NV5TzkCmWwa3"
      },
      "source": [
        "f=1800 #MHz\r\n",
        "loc='urban'\r\n",
        "tower=80 #m\r\n",
        "user=1.5 #m\r\n",
        "dmin=200 #m\r\n",
        "dmax=700 #m\r\n",
        "N=200 #titik\r\n",
        "d=np.random.randint(dmin,dmax,N)"
      ],
      "execution_count": 3,
      "outputs": []
    },
    {
      "cell_type": "code",
      "metadata": {
        "id": "Q9-fhFDFXSCv"
      },
      "source": [
        "f=1800 #MHz\r\n",
        "loc2='suburban'\r\n",
        "tower=80 #m\r\n",
        "user=1.5 #m\r\n",
        "dmin=200 #m\r\n",
        "dmax=700 #m\r\n",
        "N=200 #titik\r\n",
        "d=np.random.randint(dmin,dmax,N)"
      ],
      "execution_count": 5,
      "outputs": []
    },
    {
      "cell_type": "code",
      "metadata": {
        "id": "KntYv0VIXSy0"
      },
      "source": [
        "f=1800 #MHz\r\n",
        "loc3='open'\r\n",
        "tower=80 #m\r\n",
        "user=1.5 #m\r\n",
        "dmin=200 #m\r\n",
        "dmax=700 #m\r\n",
        "N=200 #titik\r\n",
        "d=np.random.randint(dmin,dmax,N)"
      ],
      "execution_count": 6,
      "outputs": []
    },
    {
      "cell_type": "code",
      "metadata": {
        "id": "0e6XSoKTXAQf"
      },
      "source": [
        "LpUrban=cos(f,loc,tower,user,d)\r\n",
        "LpSuburban=cos(f,loc2,tower,user,d)\r\n",
        "LpOpen=cos(f,loc3,tower,user,d)"
      ],
      "execution_count": 7,
      "outputs": []
    },
    {
      "cell_type": "code",
      "metadata": {
        "id": "EHgPJfo7XMwY"
      },
      "source": [
        "d_sort=d[np.argsort(d)]\r\n",
        "Urban_sort=LpUrban[np.argsort(d)]\r\n",
        "Suburban_sort=LpSuburban[np.argsort(d)]\r\n",
        "Open_sort=LpOpen[np.argsort(d)]"
      ],
      "execution_count": 8,
      "outputs": []
    },
    {
      "cell_type": "code",
      "metadata": {
        "colab": {
          "base_uri": "https://localhost:8080/",
          "height": 295
        },
        "id": "_Y5T9P--YC26",
        "outputId": "50278d9a-7cdc-40ee-f137-cab0803395db"
      },
      "source": [
        "plt.figure()\r\n",
        "plt.plot(d_sort,Urban_sort,'r',label='Urban')\r\n",
        "plt.plot(d_sort,Open_sort,'b',label='Open')\r\n",
        "plt.plot(d_sort,Suburban_sort,'g',label='Sub Urban')\r\n",
        "plt.legend()\r\n",
        "plt.title('Frekuensi 1800 MHz')\r\n",
        "plt.xlabel('Jarak (m)')\r\n",
        "plt.ylabel('Path Loss (dB)')\r\n",
        "plt.show()"
      ],
      "execution_count": 12,
      "outputs": [
        {
          "output_type": "display_data",
          "data": {
            "image/png": "[encoded data removed]",
            "text/plain": [
              "<Figure size 432x288 with 1 Axes>"
            ]
          },
          "metadata": {
            "tags": [],
            "needs_background": "light"
          }
        }
      ]
    },
    {
      "cell_type": "markdown",
      "metadata": {
        "id": "3O5DYV1SdZON"
      },
      "source": [
        "# **GRAFIK 2**"
      ]
    },
    {
      "cell_type": "code",
      "metadata": {
        "id": "6kXp1tjOao5T"
      },
      "source": [
        "f1=700 #MHz\r\n",
        "loc='urban'\r\n",
        "tower=80 #m\r\n",
        "user=1.5 #m\r\n",
        "dmin=200 #m\r\n",
        "dmax=700 #m\r\n",
        "N=200 #titik\r\n",
        "d=np.random.randint(dmin,dmax,N)"
      ],
      "execution_count": 14,
      "outputs": []
    },
    {
      "cell_type": "code",
      "metadata": {
        "id": "nDMRXVANbkcA"
      },
      "source": [
        "f2=900 #MHz\r\n",
        "loc='urban'\r\n",
        "tower=80 #m\r\n",
        "user=1.5 #m\r\n",
        "dmin=200 #m\r\n",
        "dmax=700 #m\r\n",
        "N=200 #titik\r\n",
        "d=np.random.randint(dmin,dmax,N)"
      ],
      "execution_count": 15,
      "outputs": []
    },
    {
      "cell_type": "code",
      "metadata": {
        "id": "Ks6cjEoqby6W"
      },
      "source": [
        "f3=1800 #MHz\r\n",
        "loc='urban'\r\n",
        "tower=80 #m\r\n",
        "user=1.5 #m\r\n",
        "dmin=200 #m\r\n",
        "dmax=700 #m\r\n",
        "N=200 #titik\r\n",
        "d=np.random.randint(dmin,dmax,N)"
      ],
      "execution_count": 16,
      "outputs": []
    },
    {
      "cell_type": "code",
      "metadata": {
        "id": "YAsSRF6Wb7eZ"
      },
      "source": [
        "LpF1=cos(f1,loc,tower,user,d)\r\n",
        "LpF2=cos(f2,loc,tower,user,d)\r\n",
        "LpF3=cos(f3,loc,tower,user,d)"
      ],
      "execution_count": 18,
      "outputs": []
    },
    {
      "cell_type": "code",
      "metadata": {
        "id": "uvF2qLcVcMKU"
      },
      "source": [
        "d_sort=d[np.argsort(d)]\r\n",
        "F1_sort=LpF1[np.argsort(d)]\r\n",
        "F2_sort=LpF2[np.argsort(d)]\r\n",
        "F3_sort=LpF3[np.argsort(d)]"
      ],
      "execution_count": 19,
      "outputs": []
    },
    {
      "cell_type": "code",
      "metadata": {
        "colab": {
          "base_uri": "https://localhost:8080/",
          "height": 295
        },
        "id": "SwC7sVuOcarM",
        "outputId": "3da07074-b3f8-406c-d24e-57885725f94e"
      },
      "source": [
        "plt.figure()\r\n",
        "plt.plot(d_sort,F1_sort,'r',label='700 MHz')\r\n",
        "plt.plot(d_sort,F2_sort,'b',label='900 MHz')\r\n",
        "plt.plot(d_sort,F3_sort,'g',label='1800 MHz')\r\n",
        "plt.legend()\r\n",
        "plt.title('Model Urban')\r\n",
        "plt.xlabel('Jarak (m)')\r\n",
        "plt.ylabel('Path Loss (dB)')\r\n",
        "plt.show()"
      ],
      "execution_count": 20,
      "outputs": [
        {
          "output_type": "display_data",
          "data": {
            "image/png": "[encoded data removed]",
            "text/plain": [
              "<Figure size 432x288 with 1 Axes>"
            ]
          },
          "metadata": {
            "tags": [],
            "needs_background": "light"
          }
        }
      ]
    }
  ]
}